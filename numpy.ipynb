{
  "cells": [
    {
      "cell_type": "markdown",
      "source": [
        "**Import the NumPy library as np.**\n",
        "\n",
        ">\n",
        "\n"
      ],
      "metadata": {
        "id": "5Lp2hgnWWxNP"
      }
    },
    {
      "cell_type": "code",
      "execution_count": 1,
      "metadata": {
        "id": "3aWw3Vmg8hyu"
      },
      "outputs": [],
      "source": [
        "import numpy as np"
      ]
    },
    {
      "cell_type": "markdown",
      "source": [
        "**Find the maximum value in the array data.**"
      ],
      "metadata": {
        "id": "qBPdwiM-XCnT"
      }
    },
    {
      "cell_type": "code",
      "execution_count": 2,
      "metadata": {
        "colab": {
          "base_uri": "https://localhost:8080/"
        },
        "id": "6lJuE4DP8kV9",
        "outputId": "a1b13197-9369-4c91-a05c-2ba0142f1eb7"
      },
      "outputs": [
        {
          "output_type": "execute_result",
          "data": {
            "text/plain": [
              "4"
            ]
          },
          "metadata": {},
          "execution_count": 2
        }
      ],
      "source": [
        "\n",
        "data = np.array([1,2,3,4])\n",
        "data.max()\n",
        "\n",
        "\n"
      ]
    },
    {
      "cell_type": "markdown",
      "source": [
        " **Find the minimum value in the array data.**"
      ],
      "metadata": {
        "id": "mw3Jn_2KXJFz"
      }
    },
    {
      "cell_type": "code",
      "execution_count": 3,
      "metadata": {
        "colab": {
          "base_uri": "https://localhost:8080/"
        },
        "id": "dVTqIC9v82CA",
        "outputId": "ba3b317a-c62a-4e72-d5de-50fb95f6015d"
      },
      "outputs": [
        {
          "output_type": "execute_result",
          "data": {
            "text/plain": [
              "1"
            ]
          },
          "metadata": {},
          "execution_count": 3
        }
      ],
      "source": [
        "data.min()\n"
      ]
    },
    {
      "cell_type": "markdown",
      "source": [
        "**Create an array of size 4 filled with ones.**\n",
        "\n"
      ],
      "metadata": {
        "id": "AZE6jbQrXPad"
      }
    },
    {
      "cell_type": "code",
      "execution_count": 4,
      "metadata": {
        "colab": {
          "base_uri": "https://localhost:8080/"
        },
        "id": "te4KrHo19FFN",
        "outputId": "1222258e-5ae1-4078-e3df-48081070a1d9"
      },
      "outputs": [
        {
          "output_type": "execute_result",
          "data": {
            "text/plain": [
              "array([1., 1., 1., 1.])"
            ]
          },
          "metadata": {},
          "execution_count": 4
        }
      ],
      "source": [
        "data1=np.ones(4)\n",
        "data1\n",
        "\n",
        "\n"
      ]
    },
    {
      "cell_type": "markdown",
      "source": [
        "**Create an array of size 4 filled with zeros.**\n",
        "\n"
      ],
      "metadata": {
        "id": "bA7F3g8BXlSA"
      }
    },
    {
      "cell_type": "code",
      "execution_count": 5,
      "metadata": {
        "colab": {
          "base_uri": "https://localhost:8080/"
        },
        "id": "O-752m_69ocE",
        "outputId": "fabfc8af-247c-49f5-cb88-7751c4b9df2c"
      },
      "outputs": [
        {
          "output_type": "execute_result",
          "data": {
            "text/plain": [
              "array([0., 0., 0., 0.])"
            ]
          },
          "metadata": {},
          "execution_count": 5
        }
      ],
      "source": [
        "data2=np.zeros(4)\n",
        "data2\n"
      ]
    },
    {
      "cell_type": "markdown",
      "source": [
        "**Element-wise addition of arrays data and data1.**"
      ],
      "metadata": {
        "id": "H6UiBd0BXZeO"
      }
    },
    {
      "cell_type": "code",
      "execution_count": 6,
      "metadata": {
        "colab": {
          "base_uri": "https://localhost:8080/"
        },
        "id": "uAlperuH9ssD",
        "outputId": "dd69aa32-6809-43a3-8276-66ba05c4a66a"
      },
      "outputs": [
        {
          "output_type": "execute_result",
          "data": {
            "text/plain": [
              "array([2., 3., 4., 5.])"
            ]
          },
          "metadata": {},
          "execution_count": 6
        }
      ],
      "source": [
        "data+data1\n",
        "\n",
        "\n",
        "\n"
      ]
    },
    {
      "cell_type": "markdown",
      "source": [
        "**Element-wise subtraction of array data from data1.**"
      ],
      "metadata": {
        "id": "qlGYdoSdXeEw"
      }
    },
    {
      "cell_type": "code",
      "execution_count": 7,
      "metadata": {
        "colab": {
          "base_uri": "https://localhost:8080/"
        },
        "id": "hd6m6ORp-RhF",
        "outputId": "e7731123-1674-4a00-896f-04eef3a2b1fa"
      },
      "outputs": [
        {
          "output_type": "execute_result",
          "data": {
            "text/plain": [
              "array([ 0., -1., -2., -3.])"
            ]
          },
          "metadata": {},
          "execution_count": 7
        }
      ],
      "source": [
        "data1-data\n"
      ]
    },
    {
      "cell_type": "markdown",
      "source": [
        "**Element-wise division of array data1 by data.**"
      ],
      "metadata": {
        "id": "zuMQb36AXrCu"
      }
    },
    {
      "cell_type": "code",
      "execution_count": 8,
      "metadata": {
        "colab": {
          "base_uri": "https://localhost:8080/"
        },
        "id": "kt_WKkHc-8rN",
        "outputId": "8b921535-76f9-4c21-88c3-4fa50215d9b5"
      },
      "outputs": [
        {
          "output_type": "execute_result",
          "data": {
            "text/plain": [
              "array([1.        , 0.5       , 0.33333333, 0.25      ])"
            ]
          },
          "metadata": {},
          "execution_count": 8
        }
      ],
      "source": [
        "data1/data\n",
        "\n"
      ]
    },
    {
      "cell_type": "markdown",
      "source": [
        "**Element-wise multiplication of arrays data1 and data.**\n",
        "\n"
      ],
      "metadata": {
        "id": "sqRlJng9XzHo"
      }
    },
    {
      "cell_type": "code",
      "execution_count": 9,
      "metadata": {
        "colab": {
          "base_uri": "https://localhost:8080/"
        },
        "id": "1dw_M1wt_FYY",
        "outputId": "5038e23c-cec2-49de-f431-3a6bef20da18"
      },
      "outputs": [
        {
          "output_type": "execute_result",
          "data": {
            "text/plain": [
              "array([1., 2., 3., 4.])"
            ]
          },
          "metadata": {},
          "execution_count": 9
        }
      ],
      "source": [
        "data1*data\n"
      ]
    },
    {
      "cell_type": "markdown",
      "source": [
        "**Multiply each element in array data by 8.**\n"
      ],
      "metadata": {
        "id": "DAgEcCQ4X2cf"
      }
    },
    {
      "cell_type": "code",
      "execution_count": 10,
      "metadata": {
        "colab": {
          "base_uri": "https://localhost:8080/"
        },
        "id": "YwhpYnxA_JiV",
        "outputId": "cf779094-ecd0-4363-e6d4-55a7bf102e5a"
      },
      "outputs": [
        {
          "output_type": "execute_result",
          "data": {
            "text/plain": [
              "array([ 8, 16, 24, 32])"
            ]
          },
          "metadata": {},
          "execution_count": 10
        }
      ],
      "source": [
        "data*8\n"
      ]
    },
    {
      "cell_type": "markdown",
      "source": [
        "**Slicing**"
      ],
      "metadata": {
        "id": "C-f1CGjqX9E0"
      }
    },
    {
      "cell_type": "code",
      "execution_count": 11,
      "metadata": {
        "colab": {
          "base_uri": "https://localhost:8080/"
        },
        "id": "oaOZa4_HFu4P",
        "outputId": "23f9e934-1885-49f6-ddaf-06c6e309d12c"
      },
      "outputs": [
        {
          "output_type": "execute_result",
          "data": {
            "text/plain": [
              "array([1, 2, 3, 4])"
            ]
          },
          "metadata": {},
          "execution_count": 11
        }
      ],
      "source": [
        "\n",
        "data[0:10]\n"
      ]
    },
    {
      "cell_type": "code",
      "execution_count": 12,
      "metadata": {
        "colab": {
          "base_uri": "https://localhost:8080/"
        },
        "id": "4R_QTct5F0V_",
        "outputId": "a71aa4c9-b617-4613-fdda-32941c2454b5"
      },
      "outputs": [
        {
          "output_type": "execute_result",
          "data": {
            "text/plain": [
              "array([2, 3, 4])"
            ]
          },
          "metadata": {},
          "execution_count": 12
        }
      ],
      "source": [
        "data[1:]"
      ]
    },
    {
      "cell_type": "code",
      "execution_count": 13,
      "metadata": {
        "colab": {
          "base_uri": "https://localhost:8080/"
        },
        "id": "Ufn9SwcYF3w0",
        "outputId": "08edbab6-89f5-44a8-f5fe-97534ebb2a47"
      },
      "outputs": [
        {
          "output_type": "execute_result",
          "data": {
            "text/plain": [
              "array([4])"
            ]
          },
          "metadata": {},
          "execution_count": 13
        }
      ],
      "source": [
        "data[-1:]\n"
      ]
    },
    {
      "cell_type": "code",
      "execution_count": 14,
      "metadata": {
        "colab": {
          "base_uri": "https://localhost:8080/"
        },
        "id": "LKc-Z9PQF89F",
        "outputId": "31c2ce04-7464-4ac8-8cd3-5d7aa90a64f4"
      },
      "outputs": [
        {
          "output_type": "execute_result",
          "data": {
            "text/plain": [
              "array([1, 2, 3])"
            ]
          },
          "metadata": {},
          "execution_count": 14
        }
      ],
      "source": [
        "data[:-1]\n"
      ]
    },
    {
      "cell_type": "markdown",
      "source": [
        "**Perform dot product of array data with scalar value 6.**"
      ],
      "metadata": {
        "id": "cHP35U4yYgQt"
      }
    },
    {
      "cell_type": "code",
      "execution_count": 15,
      "metadata": {
        "colab": {
          "base_uri": "https://localhost:8080/"
        },
        "id": "0u-dAJ3uGA9Q",
        "outputId": "738a156b-4195-4d33-b6bb-0b6fe6ed919a"
      },
      "outputs": [
        {
          "output_type": "execute_result",
          "data": {
            "text/plain": [
              "array([ 6, 12, 18, 24])"
            ]
          },
          "metadata": {},
          "execution_count": 15
        }
      ],
      "source": [
        "data.dot(6)\n",
        "\n"
      ]
    },
    {
      "cell_type": "markdown",
      "source": [
        "**Create a 2D array (matrix) from a nested list.**"
      ],
      "metadata": {
        "id": "7Wha88myYl2r"
      }
    },
    {
      "cell_type": "code",
      "execution_count": 16,
      "metadata": {
        "id": "-iR0MyH3GHdM"
      },
      "outputs": [],
      "source": [
        "matrix=np.array([[1,2,3],[6,7,8]])"
      ]
    },
    {
      "cell_type": "code",
      "execution_count": 17,
      "metadata": {
        "id": "iEp_ofsgG4rN"
      },
      "outputs": [],
      "source": [
        "matrix2=np.array([[6,6,6],[8,8,9]])\n",
        "\n",
        "\n"
      ]
    },
    {
      "cell_type": "markdown",
      "source": [
        "**Element-wise operations of matrices matrix and matrix2.**"
      ],
      "metadata": {
        "id": "0KOBhv13Yqdm"
      }
    },
    {
      "cell_type": "code",
      "execution_count": 18,
      "metadata": {
        "colab": {
          "base_uri": "https://localhost:8080/"
        },
        "id": "uNy1Vo_ZHh9-",
        "outputId": "ddec83f6-3dcb-4b52-ba9e-c9c0b8bbbb97"
      },
      "outputs": [
        {
          "output_type": "execute_result",
          "data": {
            "text/plain": [
              "array([[ 7,  8,  9],\n",
              "       [14, 15, 17]])"
            ]
          },
          "metadata": {},
          "execution_count": 18
        }
      ],
      "source": [
        "matrix+matrix2"
      ]
    },
    {
      "cell_type": "code",
      "execution_count": 19,
      "metadata": {
        "colab": {
          "base_uri": "https://localhost:8080/"
        },
        "id": "Maz_CTMUHl7u",
        "outputId": "21c718ec-600f-4203-fa1f-688d0ce22f06"
      },
      "outputs": [
        {
          "output_type": "execute_result",
          "data": {
            "text/plain": [
              "array([[0.16666667, 0.33333333, 0.5       ],\n",
              "       [0.75      , 0.875     , 0.88888889]])"
            ]
          },
          "metadata": {},
          "execution_count": 19
        }
      ],
      "source": [
        "matrix/matrix2\n"
      ]
    },
    {
      "cell_type": "code",
      "execution_count": 20,
      "metadata": {
        "colab": {
          "base_uri": "https://localhost:8080/"
        },
        "id": "NcgVqlk4Hs7M",
        "outputId": "73883a7d-aa46-48d6-cc84-4e6c4b1dbf4a"
      },
      "outputs": [
        {
          "output_type": "execute_result",
          "data": {
            "text/plain": [
              "array([[ 6, 12, 18],\n",
              "       [48, 56, 72]])"
            ]
          },
          "metadata": {},
          "execution_count": 20
        }
      ],
      "source": [
        "matrix*matrix2"
      ]
    },
    {
      "cell_type": "markdown",
      "source": [
        "**Accessing Elements of a matrix**"
      ],
      "metadata": {
        "id": "fYDfsHsjYwoU"
      }
    },
    {
      "cell_type": "code",
      "execution_count": 21,
      "metadata": {
        "colab": {
          "base_uri": "https://localhost:8080/"
        },
        "id": "wFSGhYwwHvXw",
        "outputId": "d9224a62-961d-4ba6-967c-74a419806be2"
      },
      "outputs": [
        {
          "output_type": "execute_result",
          "data": {
            "text/plain": [
              "array([1, 2, 3])"
            ]
          },
          "metadata": {},
          "execution_count": 21
        }
      ],
      "source": [
        "matrix[0]"
      ]
    },
    {
      "cell_type": "code",
      "execution_count": 22,
      "metadata": {
        "colab": {
          "base_uri": "https://localhost:8080/"
        },
        "id": "Cd2HeBbBJAy9",
        "outputId": "3a2e942f-cd3b-40e4-f22b-6dbf0c9df72f"
      },
      "outputs": [
        {
          "output_type": "execute_result",
          "data": {
            "text/plain": [
              "array([3])"
            ]
          },
          "metadata": {},
          "execution_count": 22
        }
      ],
      "source": [
        "\n",
        "matrix[0:1,2]\n",
        "\n"
      ]
    },
    {
      "cell_type": "markdown",
      "source": [
        "**Reshape the matrix matrix into a 2x3 matrix.**"
      ],
      "metadata": {
        "id": "dAo5tyXrY9wh"
      }
    },
    {
      "cell_type": "code",
      "execution_count": 23,
      "metadata": {
        "colab": {
          "base_uri": "https://localhost:8080/"
        },
        "id": "h3pOczOgJKWo",
        "outputId": "48feac5d-e97d-4be1-fee0-bf619620dac0"
      },
      "outputs": [
        {
          "output_type": "execute_result",
          "data": {
            "text/plain": [
              "array([[1, 2, 3],\n",
              "       [6, 7, 8]])"
            ]
          },
          "metadata": {},
          "execution_count": 23
        }
      ],
      "source": [
        "matrix.reshape(2,3)"
      ]
    },
    {
      "cell_type": "markdown",
      "source": [
        "**Reshape the matrix matrix into a 3x2 matrix.**"
      ],
      "metadata": {
        "id": "YpOK5BLwZAte"
      }
    },
    {
      "cell_type": "code",
      "execution_count": 24,
      "metadata": {
        "colab": {
          "base_uri": "https://localhost:8080/"
        },
        "id": "334mcA06JT58",
        "outputId": "99f031e2-0644-4a9a-b3e4-fc2452244c99"
      },
      "outputs": [
        {
          "output_type": "execute_result",
          "data": {
            "text/plain": [
              "array([[1, 2],\n",
              "       [3, 6],\n",
              "       [7, 8]])"
            ]
          },
          "metadata": {},
          "execution_count": 24
        }
      ],
      "source": [
        "\n",
        "\n",
        "matrix.reshape(3,2)"
      ]
    },
    {
      "cell_type": "markdown",
      "source": [
        "**Create a 3D array filled with ones and accesses a specific element.**"
      ],
      "metadata": {
        "id": "YDWd-oJsZEkb"
      }
    },
    {
      "cell_type": "code",
      "execution_count": 25,
      "metadata": {
        "colab": {
          "base_uri": "https://localhost:8080/"
        },
        "id": "5_rJKVwcJbf0",
        "outputId": "769aa6a9-7edb-4cf7-81b7-394492a16bea"
      },
      "outputs": [
        {
          "output_type": "execute_result",
          "data": {
            "text/plain": [
              "1.0"
            ]
          },
          "metadata": {},
          "execution_count": 25
        }
      ],
      "source": [
        "a=np.ones((4,3,3))\n",
        "a[1][2][1]"
      ]
    },
    {
      "cell_type": "code",
      "execution_count": 26,
      "metadata": {
        "id": "EHGeCPWpLwUT"
      },
      "outputs": [],
      "source": [
        "\n",
        "\n",
        "a=np.random.random((4,3,3))"
      ]
    },
    {
      "cell_type": "code",
      "source": [
        "\n",
        "a"
      ],
      "metadata": {
        "id": "KG6Jqa4zxeQ9",
        "colab": {
          "base_uri": "https://localhost:8080/"
        },
        "outputId": "bb36a79d-4834-4f57-b607-8db056d7a52b"
      },
      "execution_count": 27,
      "outputs": [
        {
          "output_type": "execute_result",
          "data": {
            "text/plain": [
              "array([[[0.5771293 , 0.53206019, 0.06045957],\n",
              "        [0.85063895, 0.08251412, 0.19953785],\n",
              "        [0.26812712, 0.80181924, 0.18676438]],\n",
              "\n",
              "       [[0.87479065, 0.45956801, 0.40814455],\n",
              "        [0.20899468, 0.92433699, 0.53247718],\n",
              "        [0.50153   , 0.21819244, 0.56488905]],\n",
              "\n",
              "       [[0.20620606, 0.08840362, 0.23730381],\n",
              "        [0.18246395, 0.66970827, 0.98029623],\n",
              "        [0.22832291, 0.15485549, 0.26578593]],\n",
              "\n",
              "       [[0.38420386, 0.53289792, 0.21382746],\n",
              "        [0.19290373, 0.48005627, 0.04555157],\n",
              "        [0.82303975, 0.38417848, 0.87548542]]])"
            ]
          },
          "metadata": {},
          "execution_count": 27
        }
      ]
    },
    {
      "cell_type": "markdown",
      "source": [
        "**Return some information about the matrix**"
      ],
      "metadata": {
        "id": "69EI4IMLWvEG"
      }
    },
    {
      "cell_type": "code",
      "source": [
        "a.ndim\n"
      ],
      "metadata": {
        "id": "6g9wpyhHIaB2",
        "colab": {
          "base_uri": "https://localhost:8080/"
        },
        "outputId": "94d3c42d-5e0b-4bb5-cbf5-d4ed3e206015"
      },
      "execution_count": 28,
      "outputs": [
        {
          "output_type": "execute_result",
          "data": {
            "text/plain": [
              "3"
            ]
          },
          "metadata": {},
          "execution_count": 28
        }
      ]
    },
    {
      "cell_type": "code",
      "source": [
        "matrix.dtype\n"
      ],
      "metadata": {
        "colab": {
          "base_uri": "https://localhost:8080/"
        },
        "id": "-IyC1QRhYgOQ",
        "outputId": "4534be42-494c-430b-d5d8-8a7f14560643"
      },
      "execution_count": 29,
      "outputs": [
        {
          "output_type": "execute_result",
          "data": {
            "text/plain": [
              "dtype('int64')"
            ]
          },
          "metadata": {},
          "execution_count": 29
        }
      ]
    },
    {
      "cell_type": "code",
      "source": [
        "matrix.shape\n"
      ],
      "metadata": {
        "colab": {
          "base_uri": "https://localhost:8080/"
        },
        "id": "o4ogfXYUYkak",
        "outputId": "11a010e7-4933-43a5-ac15-e0101c3fd0f9"
      },
      "execution_count": 30,
      "outputs": [
        {
          "output_type": "execute_result",
          "data": {
            "text/plain": [
              "(2, 3)"
            ]
          },
          "metadata": {},
          "execution_count": 30
        }
      ]
    },
    {
      "cell_type": "code",
      "source": [
        "matrix.itemsize"
      ],
      "metadata": {
        "colab": {
          "base_uri": "https://localhost:8080/"
        },
        "id": "yDnaV2CJYqPf",
        "outputId": "75c72290-f9cb-4e9a-9ee9-97a79a49c923"
      },
      "execution_count": 31,
      "outputs": [
        {
          "output_type": "execute_result",
          "data": {
            "text/plain": [
              "8"
            ]
          },
          "metadata": {},
          "execution_count": 31
        }
      ]
    },
    {
      "cell_type": "code",
      "source": [
        "a.dtype\n",
        "\n"
      ],
      "metadata": {
        "colab": {
          "base_uri": "https://localhost:8080/"
        },
        "id": "2ajydlaZYsaT",
        "outputId": "02a2f921-41be-4aab-d8c6-a73a0db2fef7"
      },
      "execution_count": 32,
      "outputs": [
        {
          "output_type": "execute_result",
          "data": {
            "text/plain": [
              "dtype('float64')"
            ]
          },
          "metadata": {},
          "execution_count": 32
        }
      ]
    },
    {
      "cell_type": "code",
      "source": [
        "a.shape"
      ],
      "metadata": {
        "colab": {
          "base_uri": "https://localhost:8080/"
        },
        "id": "wbfImivTt8Py",
        "outputId": "d3a30be2-a03e-457f-d5ae-ce545aa9658c"
      },
      "execution_count": 33,
      "outputs": [
        {
          "output_type": "execute_result",
          "data": {
            "text/plain": [
              "(4, 3, 3)"
            ]
          },
          "metadata": {},
          "execution_count": 33
        }
      ]
    },
    {
      "cell_type": "markdown",
      "source": [
        "**Broadcasting Operations**"
      ],
      "metadata": {
        "id": "hEDm09doZvT4"
      }
    },
    {
      "cell_type": "code",
      "source": [
        "arr1 = np.array([[1, 2, 3], [4, 5, 6]])\n",
        "arr2 = np.array([10, 20, 30])\n",
        "result = arr1 + arr2  # Broadcasting arr2 to match the shape of arr1\n",
        "print(\"Broadcasting Result:\")\n",
        "print(result)"
      ],
      "metadata": {
        "id": "9NBDEEzGu22p",
        "colab": {
          "base_uri": "https://localhost:8080/"
        },
        "outputId": "a49b73a7-1ebc-4658-dfe7-33e7ca20896d"
      },
      "execution_count": 34,
      "outputs": [
        {
          "output_type": "stream",
          "name": "stdout",
          "text": [
            "Broadcasting Result:\n",
            "[[11 22 33]\n",
            " [14 25 36]]\n"
          ]
        }
      ]
    },
    {
      "cell_type": "markdown",
      "source": [
        "**Array Manipulation**"
      ],
      "metadata": {
        "id": "_bdy0xqWaLej"
      }
    },
    {
      "cell_type": "code",
      "source": [
        "\n",
        "arr3d = np.arange(24).reshape(2, 3, 4)\n",
        "flattened_arr = arr3d.flatten()  # Flatten the 3D array\n",
        "print(\"\\nFlattened Array:\")\n",
        "print(flattened_arr)\n",
        "\n",
        "arr4 = np.array([[7, 8, 9], [10, 11, 12]])\n",
        "concatenated_arr = np.concatenate((arr1, arr4), axis=0)  # Concatenate arrays along rows\n",
        "print(\"\\nConcatenated Array:\")\n",
        "print(concatenated_arr)\n",
        "\n"
      ],
      "metadata": {
        "colab": {
          "base_uri": "https://localhost:8080/"
        },
        "id": "0mWgjyacZ6zD",
        "outputId": "2c7eb147-079e-4762-9d71-56a7efb77147"
      },
      "execution_count": 35,
      "outputs": [
        {
          "output_type": "stream",
          "name": "stdout",
          "text": [
            "\n",
            "Flattened Array:\n",
            "[ 0  1  2  3  4  5  6  7  8  9 10 11 12 13 14 15 16 17 18 19 20 21 22 23]\n",
            "\n",
            "Concatenated Array:\n",
            "[[ 1  2  3]\n",
            " [ 4  5  6]\n",
            " [ 7  8  9]\n",
            " [10 11 12]]\n"
          ]
        }
      ]
    },
    {
      "cell_type": "markdown",
      "source": [
        " **Array Comparison**"
      ],
      "metadata": {
        "id": "4d3O0jEHaW8i"
      }
    },
    {
      "cell_type": "code",
      "source": [
        "comparison_result = arr1 > 3\n",
        "print(\"\\nComparison Result:\")\n",
        "print(comparison_result)"
      ],
      "metadata": {
        "colab": {
          "base_uri": "https://localhost:8080/"
        },
        "id": "lA9B9xUMaJht",
        "outputId": "0cde695c-be4b-4051-f335-2df26aaae1cb"
      },
      "execution_count": 37,
      "outputs": [
        {
          "output_type": "stream",
          "name": "stdout",
          "text": [
            "\n",
            "Comparison Result:\n",
            "[[False False False]\n",
            " [ True  True  True]]\n"
          ]
        }
      ]
    },
    {
      "cell_type": "markdown",
      "source": [
        "**Array Indexing and Fancy Indexing**"
      ],
      "metadata": {
        "id": "qa3YZC3HasdS"
      }
    },
    {
      "cell_type": "code",
      "source": [
        "\n",
        "arr5 = np.array([1, 2, 3, 4, 5])\n",
        "indices = [1, 3, 4]\n",
        "selected_elements = arr5[indices]  # Fancy indexing\n",
        "print(\"\\nSelected Elements using Fancy Indexing:\")\n",
        "print(selected_elements)"
      ],
      "metadata": {
        "colab": {
          "base_uri": "https://localhost:8080/"
        },
        "id": "Fwae_9ygZ7y2",
        "outputId": "ec7087ed-476d-4441-d26b-6616a396cd33"
      },
      "execution_count": 38,
      "outputs": [
        {
          "output_type": "stream",
          "name": "stdout",
          "text": [
            "\n",
            "Selected Elements using Fancy Indexing:\n",
            "[2 4 5]\n"
          ]
        }
      ]
    },
    {
      "cell_type": "markdown",
      "source": [
        "**Mathematical Functions**"
      ],
      "metadata": {
        "id": "LKHH36URawXI"
      }
    },
    {
      "cell_type": "code",
      "source": [
        "arr6 = np.array([0, np.pi/2, np.pi])\n",
        "sin_values = np.sin(arr6)  # Applying sin function\n",
        "print(\"\\nSin Values:\")\n",
        "print(sin_values)"
      ],
      "metadata": {
        "colab": {
          "base_uri": "https://localhost:8080/"
        },
        "id": "cwV7UhDcahCB",
        "outputId": "d9f945da-39b6-45e7-bd2c-db5750175a5e"
      },
      "execution_count": 39,
      "outputs": [
        {
          "output_type": "stream",
          "name": "stdout",
          "text": [
            "\n",
            "Sin Values:\n",
            "[0.0000000e+00 1.0000000e+00 1.2246468e-16]\n"
          ]
        }
      ]
    },
    {
      "cell_type": "markdown",
      "source": [
        "**Linear Algebra**"
      ],
      "metadata": {
        "id": "vLtwDG4Raz0g"
      }
    },
    {
      "cell_type": "code",
      "source": [
        "matrix_a = np.array([[1, 2], [3, 4]])\n",
        "matrix_b = np.array([[5, 6], [7, 8]])\n",
        "matrix_product = np.matmul(matrix_a, matrix_b)  # Matrix multiplication\n",
        "print(\"\\nMatrix Product:\")\n",
        "print(matrix_product)"
      ],
      "metadata": {
        "colab": {
          "base_uri": "https://localhost:8080/"
        },
        "id": "d52WTZC1ag2j",
        "outputId": "433c91b3-5947-4ea5-d922-82b7138bfd1a"
      },
      "execution_count": 40,
      "outputs": [
        {
          "output_type": "stream",
          "name": "stdout",
          "text": [
            "\n",
            "Matrix Product:\n",
            "[[19 22]\n",
            " [43 50]]\n"
          ]
        }
      ]
    },
    {
      "cell_type": "markdown",
      "source": [
        "**Statistics**"
      ],
      "metadata": {
        "id": "eBJ2aRlubL9X"
      }
    },
    {
      "cell_type": "code",
      "source": [
        "arr7 = np.array([1, 2, 3, 4, 5])\n",
        "mean_value = np.mean(arr7)\n",
        "print(\"\\nMean Value:\")\n",
        "print(mean_value)"
      ],
      "metadata": {
        "colab": {
          "base_uri": "https://localhost:8080/"
        },
        "id": "TD3eqwNsagrz",
        "outputId": "353dfbe6-37fd-42aa-b918-c1b48e37335d"
      },
      "execution_count": 41,
      "outputs": [
        {
          "output_type": "stream",
          "name": "stdout",
          "text": [
            "\n",
            "Mean Value:\n",
            "3.0\n"
          ]
        }
      ]
    },
    {
      "cell_type": "markdown",
      "source": [
        "**Random Sampling**"
      ],
      "metadata": {
        "id": "Y1cOp-0HbY0k"
      }
    },
    {
      "cell_type": "code",
      "source": [
        "random_samples = np.random.normal(loc=0, scale=1, size=(3, 3))  # Generate random samples from a normal distribution\n",
        "print(\"\\nRandom Samples:\")\n",
        "print(random_samples)\n"
      ],
      "metadata": {
        "colab": {
          "base_uri": "https://localhost:8080/"
        },
        "id": "5RMhaittaDPV",
        "outputId": "6a5c6f30-f02c-4270-e3b3-c8ca2a7b31b1"
      },
      "execution_count": 42,
      "outputs": [
        {
          "output_type": "stream",
          "name": "stdout",
          "text": [
            "\n",
            "Random Samples:\n",
            "[[-0.02098063  0.71077838 -1.11733568]\n",
            " [ 2.08557252  1.13472184  0.36453904]\n",
            " [ 0.57834286 -0.04464303 -1.4058665 ]]\n"
          ]
        }
      ]
    },
    {
      "cell_type": "code",
      "source": [],
      "metadata": {
        "id": "bgz0nzqAbd_m"
      },
      "execution_count": null,
      "outputs": []
    }
  ],
  "metadata": {
    "colab": {
      "provenance": []
    },
    "kernelspec": {
      "display_name": "Python 3",
      "name": "python3"
    },
    "language_info": {
      "name": "python"
    }
  },
  "nbformat": 4,
  "nbformat_minor": 0
}