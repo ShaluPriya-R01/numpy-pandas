{
  "nbformat": 4,
  "nbformat_minor": 0,
  "metadata": {
    "colab": {
      "provenance": [],
      "collapsed_sections": []
    },
    "kernelspec": {
      "name": "python3",
      "display_name": "Python 3"
    },
    "language_info": {
      "name": "python"
    },
    "accelerator": "GPU"
  },
  "cells": [
    {
      "cell_type": "code",
      "execution_count": 3,
      "metadata": {
        "id": "12i485evpRgm"
      },
      "outputs": [],
      "source": [
        "import numpy as np\n",
        "import pandas as pd\n",
        "import matplotlib.pyplot as plt\n",
        "import seaborn as sns"
      ]
    },
    {
      "cell_type": "code",
      "source": [
        "df=pd.read_csv('departures.csv')\n",
        "df.head()\n"
      ],
      "metadata": {
        "id": "yzZcvNXoqc40",
        "colab": {
          "base_uri": "https://localhost:8080/",
          "height": 357
        },
        "outputId": "3b998f8f-7b85-435a-b7c5-2f9384036739"
      },
      "execution_count": 4,
      "outputs": [
        {
          "output_type": "execute_result",
          "data": {
            "text/plain": [
              "     data_dte    Year  Month  usg_apt_id usg_apt  usg_wac  fg_apt_id fg_apt  \\\n",
              "0  05-01-2006  2006.0    5.0     12016.0     GUM      5.0    13162.0    MAJ   \n",
              "1  05-01-2003  2003.0    5.0     10299.0     ANC      1.0    13856.0    OKO   \n",
              "2  03-01-2007  2007.0    3.0     10721.0     BOS     13.0    12651.0    KEF   \n",
              "3  12-01-2004  2004.0   12.0     11259.0     DAL     74.0    16271.0    YYZ   \n",
              "4  05-01-2009  2009.0    5.0     13303.0     MIA     33.0    11075.0    CMW   \n",
              "\n",
              "   fg_wac  airlineid carrier  carriergroup        type  Scheduled  Charter  \\\n",
              "0   844.0    20177.0     PFQ           1.0  Departures        0.0     10.0   \n",
              "1   736.0    20007.0      5Y           1.0  Departures        0.0     15.0   \n",
              "2   439.0    20402.0      GL           1.0  Departures        0.0      1.0   \n",
              "3   936.0    20201.0     AMQ           1.0  Departures        0.0      1.0   \n",
              "4   219.0    21323.0      5L           0.0  Departures        0.0     20.0   \n",
              "\n",
              "   Total  \n",
              "0   10.0  \n",
              "1   15.0  \n",
              "2    1.0  \n",
              "3    1.0  \n",
              "4   20.0  "
            ],
            "text/html": [
              "\n",
              "  <div id=\"df-e3480094-ac5f-42ce-ab57-08e4ae587047\">\n",
              "    <div class=\"colab-df-container\">\n",
              "      <div>\n",
              "<style scoped>\n",
              "    .dataframe tbody tr th:only-of-type {\n",
              "        vertical-align: middle;\n",
              "    }\n",
              "\n",
              "    .dataframe tbody tr th {\n",
              "        vertical-align: top;\n",
              "    }\n",
              "\n",
              "    .dataframe thead th {\n",
              "        text-align: right;\n",
              "    }\n",
              "</style>\n",
              "<table border=\"1\" class=\"dataframe\">\n",
              "  <thead>\n",
              "    <tr style=\"text-align: right;\">\n",
              "      <th></th>\n",
              "      <th>data_dte</th>\n",
              "      <th>Year</th>\n",
              "      <th>Month</th>\n",
              "      <th>usg_apt_id</th>\n",
              "      <th>usg_apt</th>\n",
              "      <th>usg_wac</th>\n",
              "      <th>fg_apt_id</th>\n",
              "      <th>fg_apt</th>\n",
              "      <th>fg_wac</th>\n",
              "      <th>airlineid</th>\n",
              "      <th>carrier</th>\n",
              "      <th>carriergroup</th>\n",
              "      <th>type</th>\n",
              "      <th>Scheduled</th>\n",
              "      <th>Charter</th>\n",
              "      <th>Total</th>\n",
              "    </tr>\n",
              "  </thead>\n",
              "  <tbody>\n",
              "    <tr>\n",
              "      <th>0</th>\n",
              "      <td>05-01-2006</td>\n",
              "      <td>2006.0</td>\n",
              "      <td>5.0</td>\n",
              "      <td>12016.0</td>\n",
              "      <td>GUM</td>\n",
              "      <td>5.0</td>\n",
              "      <td>13162.0</td>\n",
              "      <td>MAJ</td>\n",
              "      <td>844.0</td>\n",
              "      <td>20177.0</td>\n",
              "      <td>PFQ</td>\n",
              "      <td>1.0</td>\n",
              "      <td>Departures</td>\n",
              "      <td>0.0</td>\n",
              "      <td>10.0</td>\n",
              "      <td>10.0</td>\n",
              "    </tr>\n",
              "    <tr>\n",
              "      <th>1</th>\n",
              "      <td>05-01-2003</td>\n",
              "      <td>2003.0</td>\n",
              "      <td>5.0</td>\n",
              "      <td>10299.0</td>\n",
              "      <td>ANC</td>\n",
              "      <td>1.0</td>\n",
              "      <td>13856.0</td>\n",
              "      <td>OKO</td>\n",
              "      <td>736.0</td>\n",
              "      <td>20007.0</td>\n",
              "      <td>5Y</td>\n",
              "      <td>1.0</td>\n",
              "      <td>Departures</td>\n",
              "      <td>0.0</td>\n",
              "      <td>15.0</td>\n",
              "      <td>15.0</td>\n",
              "    </tr>\n",
              "    <tr>\n",
              "      <th>2</th>\n",
              "      <td>03-01-2007</td>\n",
              "      <td>2007.0</td>\n",
              "      <td>3.0</td>\n",
              "      <td>10721.0</td>\n",
              "      <td>BOS</td>\n",
              "      <td>13.0</td>\n",
              "      <td>12651.0</td>\n",
              "      <td>KEF</td>\n",
              "      <td>439.0</td>\n",
              "      <td>20402.0</td>\n",
              "      <td>GL</td>\n",
              "      <td>1.0</td>\n",
              "      <td>Departures</td>\n",
              "      <td>0.0</td>\n",
              "      <td>1.0</td>\n",
              "      <td>1.0</td>\n",
              "    </tr>\n",
              "    <tr>\n",
              "      <th>3</th>\n",
              "      <td>12-01-2004</td>\n",
              "      <td>2004.0</td>\n",
              "      <td>12.0</td>\n",
              "      <td>11259.0</td>\n",
              "      <td>DAL</td>\n",
              "      <td>74.0</td>\n",
              "      <td>16271.0</td>\n",
              "      <td>YYZ</td>\n",
              "      <td>936.0</td>\n",
              "      <td>20201.0</td>\n",
              "      <td>AMQ</td>\n",
              "      <td>1.0</td>\n",
              "      <td>Departures</td>\n",
              "      <td>0.0</td>\n",
              "      <td>1.0</td>\n",
              "      <td>1.0</td>\n",
              "    </tr>\n",
              "    <tr>\n",
              "      <th>4</th>\n",
              "      <td>05-01-2009</td>\n",
              "      <td>2009.0</td>\n",
              "      <td>5.0</td>\n",
              "      <td>13303.0</td>\n",
              "      <td>MIA</td>\n",
              "      <td>33.0</td>\n",
              "      <td>11075.0</td>\n",
              "      <td>CMW</td>\n",
              "      <td>219.0</td>\n",
              "      <td>21323.0</td>\n",
              "      <td>5L</td>\n",
              "      <td>0.0</td>\n",
              "      <td>Departures</td>\n",
              "      <td>0.0</td>\n",
              "      <td>20.0</td>\n",
              "      <td>20.0</td>\n",
              "    </tr>\n",
              "  </tbody>\n",
              "</table>\n",
              "</div>\n",
              "      <button class=\"colab-df-convert\" onclick=\"convertToInteractive('df-e3480094-ac5f-42ce-ab57-08e4ae587047')\"\n",
              "              title=\"Convert this dataframe to an interactive table.\"\n",
              "              style=\"display:none;\">\n",
              "        \n",
              "  <svg xmlns=\"http://www.w3.org/2000/svg\" height=\"24px\"viewBox=\"0 0 24 24\"\n",
              "       width=\"24px\">\n",
              "    <path d=\"M0 0h24v24H0V0z\" fill=\"none\"/>\n",
              "    <path d=\"M18.56 5.44l.94 2.06.94-2.06 2.06-.94-2.06-.94-.94-2.06-.94 2.06-2.06.94zm-11 1L8.5 8.5l.94-2.06 2.06-.94-2.06-.94L8.5 2.5l-.94 2.06-2.06.94zm10 10l.94 2.06.94-2.06 2.06-.94-2.06-.94-.94-2.06-.94 2.06-2.06.94z\"/><path d=\"M17.41 7.96l-1.37-1.37c-.4-.4-.92-.59-1.43-.59-.52 0-1.04.2-1.43.59L10.3 9.45l-7.72 7.72c-.78.78-.78 2.05 0 2.83L4 21.41c.39.39.9.59 1.41.59.51 0 1.02-.2 1.41-.59l7.78-7.78 2.81-2.81c.8-.78.8-2.07 0-2.86zM5.41 20L4 18.59l7.72-7.72 1.47 1.35L5.41 20z\"/>\n",
              "  </svg>\n",
              "      </button>\n",
              "      \n",
              "  <style>\n",
              "    .colab-df-container {\n",
              "      display:flex;\n",
              "      flex-wrap:wrap;\n",
              "      gap: 12px;\n",
              "    }\n",
              "\n",
              "    .colab-df-convert {\n",
              "      background-color: #E8F0FE;\n",
              "      border: none;\n",
              "      border-radius: 50%;\n",
              "      cursor: pointer;\n",
              "      display: none;\n",
              "      fill: #1967D2;\n",
              "      height: 32px;\n",
              "      padding: 0 0 0 0;\n",
              "      width: 32px;\n",
              "    }\n",
              "\n",
              "    .colab-df-convert:hover {\n",
              "      background-color: #E2EBFA;\n",
              "      box-shadow: 0px 1px 2px rgba(60, 64, 67, 0.3), 0px 1px 3px 1px rgba(60, 64, 67, 0.15);\n",
              "      fill: #174EA6;\n",
              "    }\n",
              "\n",
              "    [theme=dark] .colab-df-convert {\n",
              "      background-color: #3B4455;\n",
              "      fill: #D2E3FC;\n",
              "    }\n",
              "\n",
              "    [theme=dark] .colab-df-convert:hover {\n",
              "      background-color: #434B5C;\n",
              "      box-shadow: 0px 1px 3px 1px rgba(0, 0, 0, 0.15);\n",
              "      filter: drop-shadow(0px 1px 2px rgba(0, 0, 0, 0.3));\n",
              "      fill: #FFFFFF;\n",
              "    }\n",
              "  </style>\n",
              "\n",
              "      <script>\n",
              "        const buttonEl =\n",
              "          document.querySelector('#df-e3480094-ac5f-42ce-ab57-08e4ae587047 button.colab-df-convert');\n",
              "        buttonEl.style.display =\n",
              "          google.colab.kernel.accessAllowed ? 'block' : 'none';\n",
              "\n",
              "        async function convertToInteractive(key) {\n",
              "          const element = document.querySelector('#df-e3480094-ac5f-42ce-ab57-08e4ae587047');\n",
              "          const dataTable =\n",
              "            await google.colab.kernel.invokeFunction('convertToInteractive',\n",
              "                                                     [key], {});\n",
              "          if (!dataTable) return;\n",
              "\n",
              "          const docLinkHtml = 'Like what you see? Visit the ' +\n",
              "            '<a target=\"_blank\" href=https://colab.research.google.com/notebooks/data_table.ipynb>data table notebook</a>'\n",
              "            + ' to learn more about interactive tables.';\n",
              "          element.innerHTML = '';\n",
              "          dataTable['output_type'] = 'display_data';\n",
              "          await google.colab.output.renderOutput(dataTable, element);\n",
              "          const docLink = document.createElement('div');\n",
              "          docLink.innerHTML = docLinkHtml;\n",
              "          element.appendChild(docLink);\n",
              "        }\n",
              "      </script>\n",
              "    </div>\n",
              "  </div>\n",
              "  "
            ]
          },
          "metadata": {},
          "execution_count": 4
        }
      ]
    },
    {
      "cell_type": "code",
      "source": [
        "x=df.Year\n",
        "y=df.Total\n",
        "plt.hist(x,bins=15)\n",
        "plt.grid()\n",
        "plt.xlabel('YEAR')\n",
        "plt.ylabel('TOTAL')\n"
      ],
      "metadata": {
        "id": "jCVj_oRSttdb",
        "colab": {
          "base_uri": "https://localhost:8080/",
          "height": 296
        },
        "outputId": "e9c6fd0a-6141-4812-9322-36f9195e6a43"
      },
      "execution_count": 5,
      "outputs": [
        {
          "output_type": "execute_result",
          "data": {
            "text/plain": [
              "Text(0, 0.5, 'TOTAL')"
            ]
          },
          "metadata": {},
          "execution_count": 5
        },
        {
          "output_type": "display_data",
          "data": {
            "text/plain": [
              "<Figure size 432x288 with 1 Axes>"
            ],
            "image/png": "[encoded data removed]"
          },
          "metadata": {
            "needs_background": "light"
          }
        }
      ]
    },
    {
      "cell_type": "code",
      "source": [
        "plt.scatter(x,y)\n",
        "plt.grid()\n",
        "plt.xlabel('YEAR')\n",
        "plt.ylabel('TOTAL')\n"
      ],
      "metadata": {
        "id": "vxm8SCgCvqXI",
        "colab": {
          "base_uri": "https://localhost:8080/",
          "height": 296
        },
        "outputId": "09752347-a04c-4fee-fc4a-94b053bca965"
      },
      "execution_count": 6,
      "outputs": [
        {
          "output_type": "execute_result",
          "data": {
            "text/plain": [
              "Text(0, 0.5, 'TOTAL')"
            ]
          },
          "metadata": {},
          "execution_count": 6
        },
        {
          "output_type": "display_data",
          "data": {
            "text/plain": [
              "<Figure size 432x288 with 1 Axes>"
            ],
            "image/png": "[encoded data removed]"
          },
          "metadata": {
            "needs_background": "light"
          }
        }
      ]
    },
    {
      "cell_type": "code",
      "source": [
        "plt.bar(x,y)\n",
        "plt.grid()\n",
        "plt.xlabel('YEAR')\n",
        "plt.ylabel('TOTAL')\n"
      ],
      "metadata": {
        "id": "mWyWDVUmvwJE",
        "colab": {
          "base_uri": "https://localhost:8080/",
          "height": 296
        },
        "outputId": "ba9208a6-a987-47f2-b44e-c3583ffd5b47"
      },
      "execution_count": 7,
      "outputs": [
        {
          "output_type": "execute_result",
          "data": {
            "text/plain": [
              "Text(0, 0.5, 'TOTAL')"
            ]
          },
          "metadata": {},
          "execution_count": 7
        },
        {
          "output_type": "display_data",
          "data": {
            "text/plain": [
              "<Figure size 432x288 with 1 Axes>"
            ],
            "image/png": "[encoded data removed]"
          },
          "metadata": {
            "needs_background": "light"
          }
        }
      ]
    },
    {
      "cell_type": "code",
      "source": [
        "plt.polar(x,y)\n",
        "plt.grid()\n",
        "plt.xlabel('YEAR')\n",
        "plt.ylabel('TOTAL')"
      ],
      "metadata": {
        "id": "jXRpBhzLx_fe",
        "colab": {
          "base_uri": "https://localhost:8080/",
          "height": 317
        },
        "outputId": "dd5c5a17-4377-4251-85e4-7c4552c665ff"
      },
      "execution_count": 8,
      "outputs": [
        {
          "output_type": "execute_result",
          "data": {
            "text/plain": [
              "Text(0, 0.5, 'TOTAL')"
            ]
          },
          "metadata": {},
          "execution_count": 8
        },
        {
          "output_type": "display_data",
          "data": {
            "text/plain": [
              "<Figure size 432x288 with 1 Axes>"
            ],
            "image/png": "[encoded data removed]"
          },
          "metadata": {
            "needs_background": "light"
          }
        }
      ]
    },
    {
      "cell_type": "code",
      "source": [
        "plt.stem(x,y)\n",
        "plt.grid()\n",
        "plt.xlabel('YEAR')\n",
        "plt.ylabel('TOTAL')"
      ],
      "metadata": {
        "id": "f2RkJqs9yHgw",
        "colab": {
          "base_uri": "https://localhost:8080/",
          "height": 351
        },
        "outputId": "7e6dd6ee-2841-43de-9c9b-54d69caa59ed"
      },
      "execution_count": 9,
      "outputs": [
        {
          "output_type": "stream",
          "name": "stderr",
          "text": [
            "/usr/local/lib/python3.7/dist-packages/ipykernel_launcher.py:1: UserWarning: In Matplotlib 3.3 individual lines on a stem plot will be added as a LineCollection instead of individual lines. This significantly improves the performance of a stem plot. To remove this warning and switch to the new behaviour, set the \"use_line_collection\" keyword argument to True.\n",
            "  \"\"\"Entry point for launching an IPython kernel.\n"
          ]
        },
        {
          "output_type": "execute_result",
          "data": {
            "text/plain": [
              "Text(0, 0.5, 'TOTAL')"
            ]
          },
          "metadata": {},
          "execution_count": 9
        },
        {
          "output_type": "display_data",
          "data": {
            "text/plain": [
              "<Figure size 432x288 with 1 Axes>"
            ],
            "image/png": "[encoded data removed]"
          },
          "metadata": {
            "needs_background": "light"
          }
        }
      ]
    },
    {
      "cell_type": "code",
      "source": [
        "plt.plot(x)"
      ],
      "metadata": {
        "id": "6vpgblGZy1Jm",
        "colab": {
          "base_uri": "https://localhost:8080/",
          "height": 282
        },
        "outputId": "080699c1-399e-4337-efce-e6999bc5f268"
      },
      "execution_count": 10,
      "outputs": [
        {
          "output_type": "execute_result",
          "data": {
            "text/plain": [
              "[<matplotlib.lines.Line2D at 0x7f81c9432210>]"
            ]
          },
          "metadata": {},
          "execution_count": 10
        },
        {
          "output_type": "display_data",
          "data": {
            "text/plain": [
              "<Figure size 432x288 with 1 Axes>"
            ],
            "image/png": "[encoded data removed]"
          },
          "metadata": {
            "needs_background": "light"
          }
        }
      ]
    },
    {
      "cell_type": "code",
      "source": [
        "df.shape"
      ],
      "metadata": {
        "colab": {
          "base_uri": "https://localhost:8080/"
        },
        "id": "vq5HjKloLRYM",
        "outputId": "73b8e154-64c1-45bd-f986-4f06db3f5259"
      },
      "execution_count": 11,
      "outputs": [
        {
          "output_type": "execute_result",
          "data": {
            "text/plain": [
              "(125990, 16)"
            ]
          },
          "metadata": {},
          "execution_count": 11
        }
      ]
    },
    {
      "cell_type": "code",
      "source": [
        "df.tail()"
      ],
      "metadata": {
        "colab": {
          "base_uri": "https://localhost:8080/",
          "height": 340
        },
        "id": "gJTrIRKeLWjj",
        "outputId": "6d260fde-b4b1-4049-d739-70886a3cd638"
      },
      "execution_count": 12,
      "outputs": [
        {
          "output_type": "execute_result",
          "data": {
            "text/plain": [
              "          data_dte    Year  Month  usg_apt_id usg_apt  usg_wac  fg_apt_id  \\\n",
              "125985  08-01-1997  1997.0    8.0     13204.0     MCO     33.0    16271.0   \n",
              "125986  03-01-1996  1996.0    3.0     11066.0     CMH     44.0    11868.0   \n",
              "125987  01-01-1992  1992.0    1.0     10299.0     ANC      1.0    11793.0   \n",
              "125988  10-01-1995  1995.0   10.0     14112.0     PIE     33.0    16149.0   \n",
              "125989     04-01-1     NaN    NaN         NaN     NaN      NaN        NaN   \n",
              "\n",
              "       fg_apt  fg_wac  airlineid carrier  carriergroup        type  Scheduled  \\\n",
              "125985    YYZ   936.0    19961.0      TS           0.0  Departures        0.0   \n",
              "125986    GCM   233.0    20146.0     SPQ           1.0  Departures        0.0   \n",
              "125987    FUK   736.0    20312.0      TZ           1.0  Departures        0.0   \n",
              "125988    YOW   936.0    20425.0     VIQ           1.0  Departures        0.0   \n",
              "125989    NaN     NaN        NaN     NaN           NaN         NaN        NaN   \n",
              "\n",
              "        Charter  Total  \n",
              "125985     26.0   26.0  \n",
              "125986      1.0    1.0  \n",
              "125987      5.0    5.0  \n",
              "125988      1.0    1.0  \n",
              "125989      NaN    NaN  "
            ],
            "text/html": [
              "\n",
              "  <div id=\"df-2b1ee461-bf70-4541-aaed-df30a0f3abc5\">\n",
              "    <div class=\"colab-df-container\">\n",
              "      <div>\n",
              "<style scoped>\n",
              "    .dataframe tbody tr th:only-of-type {\n",
              "        vertical-align: middle;\n",
              "    }\n",
              "\n",
              "    .dataframe tbody tr th {\n",
              "        vertical-align: top;\n",
              "    }\n",
              "\n",
              "    .dataframe thead th {\n",
              "        text-align: right;\n",
              "    }\n",
              "</style>\n",
              "<table border=\"1\" class=\"dataframe\">\n",
              "  <thead>\n",
              "    <tr style=\"text-align: right;\">\n",
              "      <th></th>\n",
              "      <th>data_dte</th>\n",
              "      <th>Year</th>\n",
              "      <th>Month</th>\n",
              "      <th>usg_apt_id</th>\n",
              "      <th>usg_apt</th>\n",
              "      <th>usg_wac</th>\n",
              "      <th>fg_apt_id</th>\n",
              "      <th>fg_apt</th>\n",
              "      <th>fg_wac</th>\n",
              "      <th>airlineid</th>\n",
              "      <th>carrier</th>\n",
              "      <th>carriergroup</th>\n",
              "      <th>type</th>\n",
              "      <th>Scheduled</th>\n",
              "      <th>Charter</th>\n",
              "      <th>Total</th>\n",
              "    </tr>\n",
              "  </thead>\n",
              "  <tbody>\n",
              "    <tr>\n",
              "      <th>125985</th>\n",
              "      <td>08-01-1997</td>\n",
              "      <td>1997.0</td>\n",
              "      <td>8.0</td>\n",
              "      <td>13204.0</td>\n",
              "      <td>MCO</td>\n",
              "      <td>33.0</td>\n",
              "      <td>16271.0</td>\n",
              "      <td>YYZ</td>\n",
              "      <td>936.0</td>\n",
              "      <td>19961.0</td>\n",
              "      <td>TS</td>\n",
              "      <td>0.0</td>\n",
              "      <td>Departures</td>\n",
              "      <td>0.0</td>\n",
              "      <td>26.0</td>\n",
              "      <td>26.0</td>\n",
              "    </tr>\n",
              "    <tr>\n",
              "      <th>125986</th>\n",
              "      <td>03-01-1996</td>\n",
              "      <td>1996.0</td>\n",
              "      <td>3.0</td>\n",
              "      <td>11066.0</td>\n",
              "      <td>CMH</td>\n",
              "      <td>44.0</td>\n",
              "      <td>11868.0</td>\n",
              "      <td>GCM</td>\n",
              "      <td>233.0</td>\n",
              "      <td>20146.0</td>\n",
              "      <td>SPQ</td>\n",
              "      <td>1.0</td>\n",
              "      <td>Departures</td>\n",
              "      <td>0.0</td>\n",
              "      <td>1.0</td>\n",
              "      <td>1.0</td>\n",
              "    </tr>\n",
              "    <tr>\n",
              "      <th>125987</th>\n",
              "      <td>01-01-1992</td>\n",
              "      <td>1992.0</td>\n",
              "      <td>1.0</td>\n",
              "      <td>10299.0</td>\n",
              "      <td>ANC</td>\n",
              "      <td>1.0</td>\n",
              "      <td>11793.0</td>\n",
              "      <td>FUK</td>\n",
              "      <td>736.0</td>\n",
              "      <td>20312.0</td>\n",
              "      <td>TZ</td>\n",
              "      <td>1.0</td>\n",
              "      <td>Departures</td>\n",
              "      <td>0.0</td>\n",
              "      <td>5.0</td>\n",
              "      <td>5.0</td>\n",
              "    </tr>\n",
              "    <tr>\n",
              "      <th>125988</th>\n",
              "      <td>10-01-1995</td>\n",
              "      <td>1995.0</td>\n",
              "      <td>10.0</td>\n",
              "      <td>14112.0</td>\n",
              "      <td>PIE</td>\n",
              "      <td>33.0</td>\n",
              "      <td>16149.0</td>\n",
              "      <td>YOW</td>\n",
              "      <td>936.0</td>\n",
              "      <td>20425.0</td>\n",
              "      <td>VIQ</td>\n",
              "      <td>1.0</td>\n",
              "      <td>Departures</td>\n",
              "      <td>0.0</td>\n",
              "      <td>1.0</td>\n",
              "      <td>1.0</td>\n",
              "    </tr>\n",
              "    <tr>\n",
              "      <th>125989</th>\n",
              "      <td>04-01-1</td>\n",
              "      <td>NaN</td>\n",
              "      <td>NaN</td>\n",
              "      <td>NaN</td>\n",
              "      <td>NaN</td>\n",
              "      <td>NaN</td>\n",
              "      <td>NaN</td>\n",
              "      <td>NaN</td>\n",
              "      <td>NaN</td>\n",
              "      <td>NaN</td>\n",
              "      <td>NaN</td>\n",
              "      <td>NaN</td>\n",
              "      <td>NaN</td>\n",
              "      <td>NaN</td>\n",
              "      <td>NaN</td>\n",
              "      <td>NaN</td>\n",
              "    </tr>\n",
              "  </tbody>\n",
              "</table>\n",
              "</div>\n",
              "      <button class=\"colab-df-convert\" onclick=\"convertToInteractive('df-2b1ee461-bf70-4541-aaed-df30a0f3abc5')\"\n",
              "              title=\"Convert this dataframe to an interactive table.\"\n",
              "              style=\"display:none;\">\n",
              "        \n",
              "  <svg xmlns=\"http://www.w3.org/2000/svg\" height=\"24px\"viewBox=\"0 0 24 24\"\n",
              "       width=\"24px\">\n",
              "    <path d=\"M0 0h24v24H0V0z\" fill=\"none\"/>\n",
              "    <path d=\"M18.56 5.44l.94 2.06.94-2.06 2.06-.94-2.06-.94-.94-2.06-.94 2.06-2.06.94zm-11 1L8.5 8.5l.94-2.06 2.06-.94-2.06-.94L8.5 2.5l-.94 2.06-2.06.94zm10 10l.94 2.06.94-2.06 2.06-.94-2.06-.94-.94-2.06-.94 2.06-2.06.94z\"/><path d=\"M17.41 7.96l-1.37-1.37c-.4-.4-.92-.59-1.43-.59-.52 0-1.04.2-1.43.59L10.3 9.45l-7.72 7.72c-.78.78-.78 2.05 0 2.83L4 21.41c.39.39.9.59 1.41.59.51 0 1.02-.2 1.41-.59l7.78-7.78 2.81-2.81c.8-.78.8-2.07 0-2.86zM5.41 20L4 18.59l7.72-7.72 1.47 1.35L5.41 20z\"/>\n",
              "  </svg>\n",
              "      </button>\n",
              "      \n",
              "  <style>\n",
              "    .colab-df-container {\n",
              "      display:flex;\n",
              "      flex-wrap:wrap;\n",
              "      gap: 12px;\n",
              "    }\n",
              "\n",
              "    .colab-df-convert {\n",
              "      background-color: #E8F0FE;\n",
              "      border: none;\n",
              "      border-radius: 50%;\n",
              "      cursor: pointer;\n",
              "      display: none;\n",
              "      fill: #1967D2;\n",
              "      height: 32px;\n",
              "      padding: 0 0 0 0;\n",
              "      width: 32px;\n",
              "    }\n",
              "\n",
              "    .colab-df-convert:hover {\n",
              "      background-color: #E2EBFA;\n",
              "      box-shadow: 0px 1px 2px rgba(60, 64, 67, 0.3), 0px 1px 3px 1px rgba(60, 64, 67, 0.15);\n",
              "      fill: #174EA6;\n",
              "    }\n",
              "\n",
              "    [theme=dark] .colab-df-convert {\n",
              "      background-color: #3B4455;\n",
              "      fill: #D2E3FC;\n",
              "    }\n",
              "\n",
              "    [theme=dark] .colab-df-convert:hover {\n",
              "      background-color: #434B5C;\n",
              "      box-shadow: 0px 1px 3px 1px rgba(0, 0, 0, 0.15);\n",
              "      filter: drop-shadow(0px 1px 2px rgba(0, 0, 0, 0.3));\n",
              "      fill: #FFFFFF;\n",
              "    }\n",
              "  </style>\n",
              "\n",
              "      <script>\n",
              "        const buttonEl =\n",
              "          document.querySelector('#df-2b1ee461-bf70-4541-aaed-df30a0f3abc5 button.colab-df-convert');\n",
              "        buttonEl.style.display =\n",
              "          google.colab.kernel.accessAllowed ? 'block' : 'none';\n",
              "\n",
              "        async function convertToInteractive(key) {\n",
              "          const element = document.querySelector('#df-2b1ee461-bf70-4541-aaed-df30a0f3abc5');\n",
              "          const dataTable =\n",
              "            await google.colab.kernel.invokeFunction('convertToInteractive',\n",
              "                                                     [key], {});\n",
              "          if (!dataTable) return;\n",
              "\n",
              "          const docLinkHtml = 'Like what you see? Visit the ' +\n",
              "            '<a target=\"_blank\" href=https://colab.research.google.com/notebooks/data_table.ipynb>data table notebook</a>'\n",
              "            + ' to learn more about interactive tables.';\n",
              "          element.innerHTML = '';\n",
              "          dataTable['output_type'] = 'display_data';\n",
              "          await google.colab.output.renderOutput(dataTable, element);\n",
              "          const docLink = document.createElement('div');\n",
              "          docLink.innerHTML = docLinkHtml;\n",
              "          element.appendChild(docLink);\n",
              "        }\n",
              "      </script>\n",
              "    </div>\n",
              "  </div>\n",
              "  "
            ]
          },
          "metadata": {},
          "execution_count": 12
        }
      ]
    },
    {
      "cell_type": "code",
      "source": [
        "df.describe"
      ],
      "metadata": {
        "colab": {
          "base_uri": "https://localhost:8080/"
        },
        "id": "svfVQ_4FLc47",
        "outputId": "31e68f58-503e-490d-c708-c384a1f3854a"
      },
      "execution_count": 13,
      "outputs": [
        {
          "output_type": "execute_result",
          "data": {
            "text/plain": [
              "<bound method NDFrame.describe of           data_dte    Year  Month  usg_apt_id usg_apt  usg_wac  fg_apt_id  \\\n",
              "0       05-01-2006  2006.0    5.0     12016.0     GUM      5.0    13162.0   \n",
              "1       05-01-2003  2003.0    5.0     10299.0     ANC      1.0    13856.0   \n",
              "2       03-01-2007  2007.0    3.0     10721.0     BOS     13.0    12651.0   \n",
              "3       12-01-2004  2004.0   12.0     11259.0     DAL     74.0    16271.0   \n",
              "4       05-01-2009  2009.0    5.0     13303.0     MIA     33.0    11075.0   \n",
              "...            ...     ...    ...         ...     ...      ...        ...   \n",
              "125985  08-01-1997  1997.0    8.0     13204.0     MCO     33.0    16271.0   \n",
              "125986  03-01-1996  1996.0    3.0     11066.0     CMH     44.0    11868.0   \n",
              "125987  01-01-1992  1992.0    1.0     10299.0     ANC      1.0    11793.0   \n",
              "125988  10-01-1995  1995.0   10.0     14112.0     PIE     33.0    16149.0   \n",
              "125989     04-01-1     NaN    NaN         NaN     NaN      NaN        NaN   \n",
              "\n",
              "       fg_apt  fg_wac  airlineid carrier  carriergroup        type  Scheduled  \\\n",
              "0         MAJ   844.0    20177.0     PFQ           1.0  Departures        0.0   \n",
              "1         OKO   736.0    20007.0      5Y           1.0  Departures        0.0   \n",
              "2         KEF   439.0    20402.0      GL           1.0  Departures        0.0   \n",
              "3         YYZ   936.0    20201.0     AMQ           1.0  Departures        0.0   \n",
              "4         CMW   219.0    21323.0      5L           0.0  Departures        0.0   \n",
              "...       ...     ...        ...     ...           ...         ...        ...   \n",
              "125985    YYZ   936.0    19961.0      TS           0.0  Departures        0.0   \n",
              "125986    GCM   233.0    20146.0     SPQ           1.0  Departures        0.0   \n",
              "125987    FUK   736.0    20312.0      TZ           1.0  Departures        0.0   \n",
              "125988    YOW   936.0    20425.0     VIQ           1.0  Departures        0.0   \n",
              "125989    NaN     NaN        NaN     NaN           NaN         NaN        NaN   \n",
              "\n",
              "        Charter  Total  \n",
              "0          10.0   10.0  \n",
              "1          15.0   15.0  \n",
              "2           1.0    1.0  \n",
              "3           1.0    1.0  \n",
              "4          20.0   20.0  \n",
              "...         ...    ...  \n",
              "125985     26.0   26.0  \n",
              "125986      1.0    1.0  \n",
              "125987      5.0    5.0  \n",
              "125988      1.0    1.0  \n",
              "125989      NaN    NaN  \n",
              "\n",
              "[125990 rows x 16 columns]>"
            ]
          },
          "metadata": {},
          "execution_count": 13
        }
      ]
    },
    {
      "cell_type": "code",
      "source": [
        "df.isnull()"
      ],
      "metadata": {
        "colab": {
          "base_uri": "https://localhost:8080/",
          "height": 488
        },
        "id": "0X9uBM9sLg7w",
        "outputId": "7d4b9eef-db92-43fa-c1dc-6be6def52298"
      },
      "execution_count": 14,
      "outputs": [
        {
          "output_type": "execute_result",
          "data": {
            "text/plain": [
              "        data_dte   Year  Month  usg_apt_id  usg_apt  usg_wac  fg_apt_id  \\\n",
              "0          False  False  False       False    False    False      False   \n",
              "1          False  False  False       False    False    False      False   \n",
              "2          False  False  False       False    False    False      False   \n",
              "3          False  False  False       False    False    False      False   \n",
              "4          False  False  False       False    False    False      False   \n",
              "...          ...    ...    ...         ...      ...      ...        ...   \n",
              "125985     False  False  False       False    False    False      False   \n",
              "125986     False  False  False       False    False    False      False   \n",
              "125987     False  False  False       False    False    False      False   \n",
              "125988     False  False  False       False    False    False      False   \n",
              "125989     False   True   True        True     True     True       True   \n",
              "\n",
              "        fg_apt  fg_wac  airlineid  carrier  carriergroup   type  Scheduled  \\\n",
              "0        False   False      False    False         False  False      False   \n",
              "1        False   False      False    False         False  False      False   \n",
              "2        False   False      False    False         False  False      False   \n",
              "3        False   False      False    False         False  False      False   \n",
              "4        False   False      False    False         False  False      False   \n",
              "...        ...     ...        ...      ...           ...    ...        ...   \n",
              "125985   False   False      False    False         False  False      False   \n",
              "125986   False   False      False    False         False  False      False   \n",
              "125987   False   False      False    False         False  False      False   \n",
              "125988   False   False      False    False         False  False      False   \n",
              "125989    True    True       True     True          True   True       True   \n",
              "\n",
              "        Charter  Total  \n",
              "0         False  False  \n",
              "1         False  False  \n",
              "2         False  False  \n",
              "3         False  False  \n",
              "4         False  False  \n",
              "...         ...    ...  \n",
              "125985    False  False  \n",
              "125986    False  False  \n",
              "125987    False  False  \n",
              "125988    False  False  \n",
              "125989     True   True  \n",
              "\n",
              "[125990 rows x 16 columns]"
            ],
            "text/html": [
              "\n",
              "  <div id=\"df-773c0fee-10e6-4a67-8845-218d8a6133c4\">\n",
              "    <div class=\"colab-df-container\">\n",
              "      <div>\n",
              "<style scoped>\n",
              "    .dataframe tbody tr th:only-of-type {\n",
              "        vertical-align: middle;\n",
              "    }\n",
              "\n",
              "    .dataframe tbody tr th {\n",
              "        vertical-align: top;\n",
              "    }\n",
              "\n",
              "    .dataframe thead th {\n",
              "        text-align: right;\n",
              "    }\n",
              "</style>\n",
              "<table border=\"1\" class=\"dataframe\">\n",
              "  <thead>\n",
              "    <tr style=\"text-align: right;\">\n",
              "      <th></th>\n",
              "      <th>data_dte</th>\n",
              "      <th>Year</th>\n",
              "      <th>Month</th>\n",
              "      <th>usg_apt_id</th>\n",
              "      <th>usg_apt</th>\n",
              "      <th>usg_wac</th>\n",
              "      <th>fg_apt_id</th>\n",
              "      <th>fg_apt</th>\n",
              "      <th>fg_wac</th>\n",
              "      <th>airlineid</th>\n",
              "      <th>carrier</th>\n",
              "      <th>carriergroup</th>\n",
              "      <th>type</th>\n",
              "      <th>Scheduled</th>\n",
              "      <th>Charter</th>\n",
              "      <th>Total</th>\n",
              "    </tr>\n",
              "  </thead>\n",
              "  <tbody>\n",
              "    <tr>\n",
              "      <th>0</th>\n",
              "      <td>False</td>\n",
              "      <td>False</td>\n",
              "      <td>False</td>\n",
              "      <td>False</td>\n",
              "      <td>False</td>\n",
              "      <td>False</td>\n",
              "      <td>False</td>\n",
              "      <td>False</td>\n",
              "      <td>False</td>\n",
              "      <td>False</td>\n",
              "      <td>False</td>\n",
              "      <td>False</td>\n",
              "      <td>False</td>\n",
              "      <td>False</td>\n",
              "      <td>False</td>\n",
              "      <td>False</td>\n",
              "    </tr>\n",
              "    <tr>\n",
              "      <th>1</th>\n",
              "      <td>False</td>\n",
              "      <td>False</td>\n",
              "      <td>False</td>\n",
              "      <td>False</td>\n",
              "      <td>False</td>\n",
              "      <td>False</td>\n",
              "      <td>False</td>\n",
              "      <td>False</td>\n",
              "      <td>False</td>\n",
              "      <td>False</td>\n",
              "      <td>False</td>\n",
              "      <td>False</td>\n",
              "      <td>False</td>\n",
              "      <td>False</td>\n",
              "      <td>False</td>\n",
              "      <td>False</td>\n",
              "    </tr>\n",
              "    <tr>\n",
              "      <th>2</th>\n",
              "      <td>False</td>\n",
              "      <td>False</td>\n",
              "      <td>False</td>\n",
              "      <td>False</td>\n",
              "      <td>False</td>\n",
              "      <td>False</td>\n",
              "      <td>False</td>\n",
              "      <td>False</td>\n",
              "      <td>False</td>\n",
              "      <td>False</td>\n",
              "      <td>False</td>\n",
              "      <td>False</td>\n",
              "      <td>False</td>\n",
              "      <td>False</td>\n",
              "      <td>False</td>\n",
              "      <td>False</td>\n",
              "    </tr>\n",
              "    <tr>\n",
              "      <th>3</th>\n",
              "      <td>False</td>\n",
              "      <td>False</td>\n",
              "      <td>False</td>\n",
              "      <td>False</td>\n",
              "      <td>False</td>\n",
              "      <td>False</td>\n",
              "      <td>False</td>\n",
              "      <td>False</td>\n",
              "      <td>False</td>\n",
              "      <td>False</td>\n",
              "      <td>False</td>\n",
              "      <td>False</td>\n",
              "      <td>False</td>\n",
              "      <td>False</td>\n",
              "      <td>False</td>\n",
              "      <td>False</td>\n",
              "    </tr>\n",
              "    <tr>\n",
              "      <th>4</th>\n",
              "      <td>False</td>\n",
              "      <td>False</td>\n",
              "      <td>False</td>\n",
              "      <td>False</td>\n",
              "      <td>False</td>\n",
              "      <td>False</td>\n",
              "      <td>False</td>\n",
              "      <td>False</td>\n",
              "      <td>False</td>\n",
              "      <td>False</td>\n",
              "      <td>False</td>\n",
              "      <td>False</td>\n",
              "      <td>False</td>\n",
              "      <td>False</td>\n",
              "      <td>False</td>\n",
              "      <td>False</td>\n",
              "    </tr>\n",
              "    <tr>\n",
              "      <th>...</th>\n",
              "      <td>...</td>\n",
              "      <td>...</td>\n",
              "      <td>...</td>\n",
              "      <td>...</td>\n",
              "      <td>...</td>\n",
              "      <td>...</td>\n",
              "      <td>...</td>\n",
              "      <td>...</td>\n",
              "      <td>...</td>\n",
              "      <td>...</td>\n",
              "      <td>...</td>\n",
              "      <td>...</td>\n",
              "      <td>...</td>\n",
              "      <td>...</td>\n",
              "      <td>...</td>\n",
              "      <td>...</td>\n",
              "    </tr>\n",
              "    <tr>\n",
              "      <th>125985</th>\n",
              "      <td>False</td>\n",
              "      <td>False</td>\n",
              "      <td>False</td>\n",
              "      <td>False</td>\n",
              "      <td>False</td>\n",
              "      <td>False</td>\n",
              "      <td>False</td>\n",
              "      <td>False</td>\n",
              "      <td>False</td>\n",
              "      <td>False</td>\n",
              "      <td>False</td>\n",
              "      <td>False</td>\n",
              "      <td>False</td>\n",
              "      <td>False</td>\n",
              "      <td>False</td>\n",
              "      <td>False</td>\n",
              "    </tr>\n",
              "    <tr>\n",
              "      <th>125986</th>\n",
              "      <td>False</td>\n",
              "      <td>False</td>\n",
              "      <td>False</td>\n",
              "      <td>False</td>\n",
              "      <td>False</td>\n",
              "      <td>False</td>\n",
              "      <td>False</td>\n",
              "      <td>False</td>\n",
              "      <td>False</td>\n",
              "      <td>False</td>\n",
              "      <td>False</td>\n",
              "      <td>False</td>\n",
              "      <td>False</td>\n",
              "      <td>False</td>\n",
              "      <td>False</td>\n",
              "      <td>False</td>\n",
              "    </tr>\n",
              "    <tr>\n",
              "      <th>125987</th>\n",
              "      <td>False</td>\n",
              "      <td>False</td>\n",
              "      <td>False</td>\n",
              "      <td>False</td>\n",
              "      <td>False</td>\n",
              "      <td>False</td>\n",
              "      <td>False</td>\n",
              "      <td>False</td>\n",
              "      <td>False</td>\n",
              "      <td>False</td>\n",
              "      <td>False</td>\n",
              "      <td>False</td>\n",
              "      <td>False</td>\n",
              "      <td>False</td>\n",
              "      <td>False</td>\n",
              "      <td>False</td>\n",
              "    </tr>\n",
              "    <tr>\n",
              "      <th>125988</th>\n",
              "      <td>False</td>\n",
              "      <td>False</td>\n",
              "      <td>False</td>\n",
              "      <td>False</td>\n",
              "      <td>False</td>\n",
              "      <td>False</td>\n",
              "      <td>False</td>\n",
              "      <td>False</td>\n",
              "      <td>False</td>\n",
              "      <td>False</td>\n",
              "      <td>False</td>\n",
              "      <td>False</td>\n",
              "      <td>False</td>\n",
              "      <td>False</td>\n",
              "      <td>False</td>\n",
              "      <td>False</td>\n",
              "    </tr>\n",
              "    <tr>\n",
              "      <th>125989</th>\n",
              "      <td>False</td>\n",
              "      <td>True</td>\n",
              "      <td>True</td>\n",
              "      <td>True</td>\n",
              "      <td>True</td>\n",
              "      <td>True</td>\n",
              "      <td>True</td>\n",
              "      <td>True</td>\n",
              "      <td>True</td>\n",
              "      <td>True</td>\n",
              "      <td>True</td>\n",
              "      <td>True</td>\n",
              "      <td>True</td>\n",
              "      <td>True</td>\n",
              "      <td>True</td>\n",
              "      <td>True</td>\n",
              "    </tr>\n",
              "  </tbody>\n",
              "</table>\n",
              "<p>125990 rows × 16 columns</p>\n",
              "</div>\n",
              "      <button class=\"colab-df-convert\" onclick=\"convertToInteractive('df-773c0fee-10e6-4a67-8845-218d8a6133c4')\"\n",
              "              title=\"Convert this dataframe to an interactive table.\"\n",
              "              style=\"display:none;\">\n",
              "        \n",
              "  <svg xmlns=\"http://www.w3.org/2000/svg\" height=\"24px\"viewBox=\"0 0 24 24\"\n",
              "       width=\"24px\">\n",
              "    <path d=\"M0 0h24v24H0V0z\" fill=\"none\"/>\n",
              "    <path d=\"M18.56 5.44l.94 2.06.94-2.06 2.06-.94-2.06-.94-.94-2.06-.94 2.06-2.06.94zm-11 1L8.5 8.5l.94-2.06 2.06-.94-2.06-.94L8.5 2.5l-.94 2.06-2.06.94zm10 10l.94 2.06.94-2.06 2.06-.94-2.06-.94-.94-2.06-.94 2.06-2.06.94z\"/><path d=\"M17.41 7.96l-1.37-1.37c-.4-.4-.92-.59-1.43-.59-.52 0-1.04.2-1.43.59L10.3 9.45l-7.72 7.72c-.78.78-.78 2.05 0 2.83L4 21.41c.39.39.9.59 1.41.59.51 0 1.02-.2 1.41-.59l7.78-7.78 2.81-2.81c.8-.78.8-2.07 0-2.86zM5.41 20L4 18.59l7.72-7.72 1.47 1.35L5.41 20z\"/>\n",
              "  </svg>\n",
              "      </button>\n",
              "      \n",
              "  <style>\n",
              "    .colab-df-container {\n",
              "      display:flex;\n",
              "      flex-wrap:wrap;\n",
              "      gap: 12px;\n",
              "    }\n",
              "\n",
              "    .colab-df-convert {\n",
              "      background-color: #E8F0FE;\n",
              "      border: none;\n",
              "      border-radius: 50%;\n",
              "      cursor: pointer;\n",
              "      display: none;\n",
              "      fill: #1967D2;\n",
              "      height: 32px;\n",
              "      padding: 0 0 0 0;\n",
              "      width: 32px;\n",
              "    }\n",
              "\n",
              "    .colab-df-convert:hover {\n",
              "      background-color: #E2EBFA;\n",
              "      box-shadow: 0px 1px 2px rgba(60, 64, 67, 0.3), 0px 1px 3px 1px rgba(60, 64, 67, 0.15);\n",
              "      fill: #174EA6;\n",
              "    }\n",
              "\n",
              "    [theme=dark] .colab-df-convert {\n",
              "      background-color: #3B4455;\n",
              "      fill: #D2E3FC;\n",
              "    }\n",
              "\n",
              "    [theme=dark] .colab-df-convert:hover {\n",
              "      background-color: #434B5C;\n",
              "      box-shadow: 0px 1px 3px 1px rgba(0, 0, 0, 0.15);\n",
              "      filter: drop-shadow(0px 1px 2px rgba(0, 0, 0, 0.3));\n",
              "      fill: #FFFFFF;\n",
              "    }\n",
              "  </style>\n",
              "\n",
              "      <script>\n",
              "        const buttonEl =\n",
              "          document.querySelector('#df-773c0fee-10e6-4a67-8845-218d8a6133c4 button.colab-df-convert');\n",
              "        buttonEl.style.display =\n",
              "          google.colab.kernel.accessAllowed ? 'block' : 'none';\n",
              "\n",
              "        async function convertToInteractive(key) {\n",
              "          const element = document.querySelector('#df-773c0fee-10e6-4a67-8845-218d8a6133c4');\n",
              "          const dataTable =\n",
              "            await google.colab.kernel.invokeFunction('convertToInteractive',\n",
              "                                                     [key], {});\n",
              "          if (!dataTable) return;\n",
              "\n",
              "          const docLinkHtml = 'Like what you see? Visit the ' +\n",
              "            '<a target=\"_blank\" href=https://colab.research.google.com/notebooks/data_table.ipynb>data table notebook</a>'\n",
              "            + ' to learn more about interactive tables.';\n",
              "          element.innerHTML = '';\n",
              "          dataTable['output_type'] = 'display_data';\n",
              "          await google.colab.output.renderOutput(dataTable, element);\n",
              "          const docLink = document.createElement('div');\n",
              "          docLink.innerHTML = docLinkHtml;\n",
              "          element.appendChild(docLink);\n",
              "        }\n",
              "      </script>\n",
              "    </div>\n",
              "  </div>\n",
              "  "
            ]
          },
          "metadata": {},
          "execution_count": 14
        }
      ]
    },
    {
      "cell_type": "code",
      "source": [
        "plt.boxplot(x)"
      ],
      "metadata": {
        "colab": {
          "base_uri": "https://localhost:8080/",
          "height": 404
        },
        "id": "iRfHq8INL6Sv",
        "outputId": "a332c270-78b7-43b6-edb2-481a5c4eede5"
      },
      "execution_count": 15,
      "outputs": [
        {
          "output_type": "execute_result",
          "data": {
            "text/plain": [
              "{'whiskers': [<matplotlib.lines.Line2D at 0x7f81c365cbd0>,\n",
              "  <matplotlib.lines.Line2D at 0x7f81c3661150>],\n",
              " 'caps': [<matplotlib.lines.Line2D at 0x7f81c3661690>,\n",
              "  <matplotlib.lines.Line2D at 0x7f81c3661bd0>],\n",
              " 'boxes': [<matplotlib.lines.Line2D at 0x7f81c365c610>],\n",
              " 'medians': [<matplotlib.lines.Line2D at 0x7f81c3669190>],\n",
              " 'fliers': [<matplotlib.lines.Line2D at 0x7f81c36696d0>],\n",
              " 'means': []}"
            ]
          },
          "metadata": {},
          "execution_count": 15
        },
        {
          "output_type": "display_data",
          "data": {
            "text/plain": [
              "<Figure size 432x288 with 1 Axes>"
            ],
            "image/png": "[encoded data removed]"
          },
          "metadata": {
            "needs_background": "light"
          }
        }
      ]
    },
    {
      "cell_type": "code",
      "source": [
        "sns.countplot(df['Year'])"
      ],
      "metadata": {
        "colab": {
          "base_uri": "https://localhost:8080/",
          "height": 351
        },
        "id": "ZZokF2TcMvlN",
        "outputId": "92d108fa-2bdf-4dbf-a2f0-7bb2a2a309d2"
      },
      "execution_count": 16,
      "outputs": [
        {
          "output_type": "stream",
          "name": "stderr",
          "text": [
            "/usr/local/lib/python3.7/dist-packages/seaborn/_decorators.py:43: FutureWarning: Pass the following variable as a keyword arg: x. From version 0.12, the only valid positional argument will be `data`, and passing other arguments without an explicit keyword will result in an error or misinterpretation.\n",
            "  FutureWarning\n"
          ]
        },
        {
          "output_type": "execute_result",
          "data": {
            "text/plain": [
              "<matplotlib.axes._subplots.AxesSubplot at 0x7f81c9439850>"
            ]
          },
          "metadata": {},
          "execution_count": 16
        },
        {
          "output_type": "display_data",
          "data": {
            "text/plain": [
              "<Figure size 432x288 with 1 Axes>"
            ],
            "image/png": "[encoded data removed]"
          },
          "metadata": {
            "needs_background": "light"
          }
        }
      ]
    },
    {
      "cell_type": "code",
      "source": [
        "sns.heatmap(df.corr(),annot=True)"
      ],
      "metadata": {
        "colab": {
          "base_uri": "https://localhost:8080/",
          "height": 338
        },
        "id": "ID692INpM49f",
        "outputId": "4af583b9-e913-4aa9-a036-6ce5577a0108"
      },
      "execution_count": 17,
      "outputs": [
        {
          "output_type": "execute_result",
          "data": {
            "text/plain": [
              "<matplotlib.axes._subplots.AxesSubplot at 0x7f81c8516cd0>"
            ]
          },
          "metadata": {},
          "execution_count": 17
        },
        {
          "output_type": "display_data",
          "data": {
            "text/plain": [
              "<Figure size 432x288 with 2 Axes>"
            ],
            "image/png": "[encoded data removed]"
          },
          "metadata": {
            "needs_background": "light"
          }
        }
      ]
    },
    {
      "cell_type": "code",
      "source": [
        "sns.displot(df)"
      ],
      "metadata": {
        "colab": {
          "base_uri": "https://localhost:8080/",
          "height": 386
        },
        "id": "1NJPbnPSNEje",
        "outputId": "48a60a26-5677-4749-acb0-b538777a1ffc"
      },
      "execution_count": 18,
      "outputs": [
        {
          "output_type": "execute_result",
          "data": {
            "text/plain": [
              "<seaborn.axisgrid.FacetGrid at 0x7f81c76a6890>"
            ]
          },
          "metadata": {},
          "execution_count": 18
        },
        {
          "output_type": "display_data",
          "data": {
            "text/plain": [
              "<Figure size 457.625x360 with 1 Axes>"
            ],
            "image/png": "[encoded data removed]"
          },
          "metadata": {
            "needs_background": "light"
          }
        }
      ]
    },
    {
      "cell_type": "code",
      "source": [],
      "metadata": {
        "colab": {
          "base_uri": "https://localhost:8080/",
          "height": 165
        },
        "id": "fgFacE8E6qpk",
        "outputId": "2cab40e7-3fe9-42b1-b1b9-a10d015eb1a0"
      },
      "execution_count": 19,
      "outputs": [
        {
          "output_type": "error",
          "ename": "AttributeError",
          "evalue": "ignored",
          "traceback": [
            "\u001b[0;31m---------------------------------------------------------------------------\u001b[0m",
            "\u001b[0;31mAttributeError\u001b[0m                            Traceback (most recent call last)",
            "\u001b[0;32m<ipython-input-19-974946dd1d28>\u001b[0m in \u001b[0;36m<module>\u001b[0;34m\u001b[0m\n\u001b[0;32m----> 1\u001b[0;31m \u001b[0mplt\u001b[0m\u001b[0;34m.\u001b[0m\u001b[0mfillbetween\u001b[0m\u001b[0;34m(\u001b[0m\u001b[0mx\u001b[0m\u001b[0;34m,\u001b[0m\u001b[0my\u001b[0m\u001b[0;34m)\u001b[0m\u001b[0;34m\u001b[0m\u001b[0;34m\u001b[0m\u001b[0m\n\u001b[0m",
            "\u001b[0;31mAttributeError\u001b[0m: module 'matplotlib.pyplot' has no attribute 'fillbetween'"
          ]
        }
      ]
    }
  ]
}