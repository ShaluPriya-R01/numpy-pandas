{
  "nbformat": 4,
  "nbformat_minor": 0,
  "metadata": {
    "colab": {
      "provenance": [],
      "authorship_tag": "ABX9TyNuirdfzpuO1blO3nawiz0E",
      "include_colab_link": true
    },
    "kernelspec": {
      "name": "python3",
      "display_name": "Python 3"
    },
    "language_info": {
      "name": "python"
    }
  },
  "cells": [
    {
      "cell_type": "markdown",
      "metadata": {
        "id": "view-in-github",
        "colab_type": "text"
      },
      "source": [
        "<a href=\"https://colab.research.google.com/github/ShaluPriya-R01/shalu-priya/blob/main/pandaas1.ipynb\" target=\"_parent\"><img src=\"https://colab.research.google.com/assets/colab-badge.svg\" alt=\"Open In Colab\"/></a>"
      ]
    },
    {
      "cell_type": "code",
      "execution_count": 1,
      "metadata": {
        "id": "3YQgWCLSkZCb",
        "colab": {
          "base_uri": "https://localhost:8080/"
        },
        "outputId": "6c454160-92e8-49e6-a2a3-7570bbbf3386"
      },
      "outputs": [
        {
          "output_type": "stream",
          "name": "stdout",
          "text": [
            "   DURATION  Pulse  Maxpulse  Calories\n",
            "0       100    110       130       409\n",
            "1       200    117       145       479\n",
            "2       300    103       135       340\n",
            "3       400    109       175       282\n",
            "4       700    117       148       406\n",
            "5       800    102       127       300\n"
          ]
        }
      ],
      "source": [
        "#importing pandas library\n",
        "import pandas as pd\n",
        "#creating a  dictionary\n",
        "data = {\n",
        "  \"DURATION\":{\n",
        "    \"0\":100,\n",
        "    \"1\":200,\n",
        "    \"2\":300,\n",
        "    \"3\":400,\n",
        "    \"4\":700,\n",
        "    \"5\":800\n",
        "  },\n",
        "  \"Pulse\":{\n",
        "    \"0\":110,\n",
        "    \"1\":117,\n",
        "    \"2\":103,\n",
        "    \"3\":109,\n",
        "    \"4\":117,\n",
        "    \"5\":102\n",
        "  },\n",
        "  \"Maxpulse\":{\n",
        "    \"0\":130,\n",
        "    \"1\":145,\n",
        "    \"2\":135,\n",
        "    \"3\":175,\n",
        "    \"4\":148,\n",
        "    \"5\":127\n",
        "  },\n",
        "  \"Calories\":{\n",
        "    \"0\":409,\n",
        "    \"1\":479,\n",
        "    \"2\":340,\n",
        "    \"3\":282,\n",
        "    \"4\":406,\n",
        "    \"5\":300\n",
        "  }\n",
        "}\n",
        "#initialising a dataframe\n",
        "df = pd.DataFrame(data)\n",
        "\n",
        "print(df)\n"
      ]
    },
    {
      "cell_type": "code",
      "source": [
        "#printing a specific row using loc\n",
        "print(df.loc[\"1\"])\n",
        "\n"
      ],
      "metadata": {
        "colab": {
          "base_uri": "https://localhost:8080/"
        },
        "id": "aAB6PmU5lWu2",
        "outputId": "6ff82e5a-1fbd-49b5-c1cc-3a9bb037978f"
      },
      "execution_count": 2,
      "outputs": [
        {
          "output_type": "stream",
          "name": "stdout",
          "text": [
            "DURATION    200\n",
            "Pulse       117\n",
            "Maxpulse    145\n",
            "Calories    479\n",
            "Name: 1, dtype: int64\n"
          ]
        }
      ]
    },
    {
      "cell_type": "code",
      "source": [
        "#creating a new dictionary\n",
        "data = {\n",
        "  \"calories\": [420, 380, 390],\n",
        "  \"duration\": [50, 40, 45]\n",
        "}\n",
        "\n",
        "#initialising a dataframe\n",
        "df1 = pd.DataFrame(data)\n",
        "print(df1.loc[0])\n"
      ],
      "metadata": {
        "id": "viSEg9m-l9H5",
        "colab": {
          "base_uri": "https://localhost:8080/"
        },
        "outputId": "5edaeee0-5d5c-49c6-dc9e-37108c8ffadb"
      },
      "execution_count": 3,
      "outputs": [
        {
          "output_type": "stream",
          "name": "stdout",
          "text": [
            "calories    420\n",
            "duration     50\n",
            "Name: 0, dtype: int64\n"
          ]
        }
      ]
    },
    {
      "cell_type": "code",
      "source": [
        "#print specific number of rows\n",
        "pd.options.display.max_rows =3\n",
        "print(df)"
      ],
      "metadata": {
        "id": "EEQRs8ixoP6G",
        "colab": {
          "base_uri": "https://localhost:8080/"
        },
        "outputId": "c075a9dd-6e47-4d8e-97d2-b71cd5d9c533"
      },
      "execution_count": 4,
      "outputs": [
        {
          "output_type": "stream",
          "name": "stdout",
          "text": [
            "    DURATION  Pulse  Maxpulse  Calories\n",
            "0        100    110       130       409\n",
            "..       ...    ...       ...       ...\n",
            "5        800    102       127       300\n",
            "\n",
            "[6 rows x 4 columns]\n"
          ]
        }
      ]
    },
    {
      "cell_type": "code",
      "source": [
        "#print entire dataset\n",
        "print(df.to_string())"
      ],
      "metadata": {
        "id": "RR6WvxaupA75",
        "colab": {
          "base_uri": "https://localhost:8080/"
        },
        "outputId": "13b1ad1d-c5f1-4e93-c2ec-3f9c3f5314d5"
      },
      "execution_count": 5,
      "outputs": [
        {
          "output_type": "stream",
          "name": "stdout",
          "text": [
            "   DURATION  Pulse  Maxpulse  Calories\n",
            "0       100    110       130       409\n",
            "1       200    117       145       479\n",
            "2       300    103       135       340\n",
            "3       400    109       175       282\n",
            "4       700    117       148       406\n",
            "5       800    102       127       300\n"
          ]
        }
      ]
    },
    {
      "cell_type": "code",
      "source": [
        "#extracting information from dataframe\n",
        "df.info()"
      ],
      "metadata": {
        "id": "lwI1sVG1pik0",
        "colab": {
          "base_uri": "https://localhost:8080/"
        },
        "outputId": "98be91eb-1042-4d67-9e51-d3327c4f25f9"
      },
      "execution_count": 6,
      "outputs": [
        {
          "output_type": "stream",
          "name": "stdout",
          "text": [
            "<class 'pandas.core.frame.DataFrame'>\n",
            "Index: 6 entries, 0 to 5\n",
            "Data columns (total 4 columns):\n",
            " #   Column    Non-Null Count  Dtype\n",
            "---  ------    --------------  -----\n",
            " 0   DURATION  6 non-null      int64\n",
            " 1   Pulse     6 non-null      int64\n",
            " 2   Maxpulse  6 non-null      int64\n",
            " 3   Calories  6 non-null      int64\n",
            "dtypes: int64(4)\n",
            "memory usage: 412.0+ bytes\n"
          ]
        }
      ]
    },
    {
      "cell_type": "code",
      "source": [
        "#extracting information from dataframe\n",
        "df1.info()"
      ],
      "metadata": {
        "id": "TrWCuEfDpkCU",
        "colab": {
          "base_uri": "https://localhost:8080/"
        },
        "outputId": "101c1bd0-9e6d-4854-9b2e-5d28481692e2"
      },
      "execution_count": 7,
      "outputs": [
        {
          "output_type": "stream",
          "name": "stdout",
          "text": [
            "<class 'pandas.core.frame.DataFrame'>\n",
            "RangeIndex: 3 entries, 0 to 2\n",
            "Data columns (total 2 columns):\n",
            " #   Column    Non-Null Count  Dtype\n",
            "---  ------    --------------  -----\n",
            " 0   calories  3 non-null      int64\n",
            " 1   duration  3 non-null      int64\n",
            "dtypes: int64(2)\n",
            "memory usage: 176.0 bytes\n"
          ]
        }
      ]
    },
    {
      "cell_type": "code",
      "source": [],
      "metadata": {
        "id": "0fn2B5cfpm1Q"
      },
      "execution_count": 7,
      "outputs": []
    }
  ]
}